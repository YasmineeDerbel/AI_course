{
 "cells": [
  {
   "cell_type": "code",
   "execution_count": 10,
   "metadata": {},
   "outputs": [],
   "source": [
    "import numpy as np"
   ]
  },
  {
   "cell_type": "code",
   "execution_count": 11,
   "metadata": {},
   "outputs": [],
   "source": [
    "\n",
    "X = np.array([\n",
    "    [30, 1300.5],\n",
    "    [48, 2500.7],\n",
    "    [25, 1100.5],\n",
    "    [45, 1900.75]\n",
    "])\n"
   ]
  },
  {
   "cell_type": "code",
   "execution_count": 12,
   "metadata": {},
   "outputs": [],
   "source": [
    "class Kmeans :\n",
    "  def __init__(self, k=2):\n",
    "    self.k=k\n",
    "    "
   ]
  },
  {
   "cell_type": "code",
   "execution_count": 13,
   "metadata": {},
   "outputs": [
    {
     "data": {
      "text/plain": [
       "2"
      ]
     },
     "execution_count": 13,
     "metadata": {},
     "output_type": "execute_result"
    }
   ],
   "source": [
    "km=Kmeans(k=2)\n",
    "km.k"
   ]
  },
  {
   "cell_type": "code",
   "execution_count": 14,
   "metadata": {},
   "outputs": [],
   "source": [
    "class Kmeans :\n",
    "  def __init__(self, k=2):\n",
    "    self.k=k\n",
    "    self.centers=[]"
   ]
  },
  {
   "cell_type": "code",
   "execution_count": 15,
   "metadata": {},
   "outputs": [
    {
     "data": {
      "text/plain": [
       "[]"
      ]
     },
     "execution_count": 15,
     "metadata": {},
     "output_type": "execute_result"
    }
   ],
   "source": [
    "km=Kmeans(k=2)\n",
    "km.centers"
   ]
  },
  {
   "cell_type": "code",
   "execution_count": 16,
   "metadata": {},
   "outputs": [],
   "source": [
    "import numpy as np\n",
    "\n",
    "class Kmeans:\n",
    "    def __init__(self, k=2):\n",
    "        self.k = k\n",
    "        self.centers = []\n",
    "\n",
    "    def fit(self, X):\n",
    "        # Randomly initialize cluster centers by selecting K data points from X\n",
    "        random_indices = np.random.choice(len(X), self.k, replace=False)\n",
    "        self.centers = X[random_indices]\n",
    "        \n",
    "        max_iterations = 100\n",
    "        for _ in range(max_iterations):\n",
    "            distances = np.linalg.norm(X[:, np.newaxis] - self.centers, axis=2)\n",
    "            labels = np.argmin(distances, axis=1)\n",
    "            new_centers = np.array([X[labels == i].mean(axis=0) for i in range(self.k)])\n",
    "            if np.allclose(self.centers, new_centers):\n",
    "                break\n",
    "            self.centers = new_centers\n",
    "\n",
    "        return self\n"
   ]
  },
  {
   "cell_type": "code",
   "execution_count": 17,
   "metadata": {},
   "outputs": [
    {
     "data": {
      "text/plain": [
       "array([[  46.5  , 2200.725],\n",
       "       [  27.5  , 1200.5  ]])"
      ]
     },
     "execution_count": 17,
     "metadata": {},
     "output_type": "execute_result"
    }
   ],
   "source": [
    "km=Kmeans(k=2)\n",
    "km.fit(X)\n",
    "km.centers"
   ]
  },
  {
   "cell_type": "code",
   "execution_count": 18,
   "metadata": {},
   "outputs": [],
   "source": [
    "import numpy as np\n",
    "\n",
    "class Kmeans:\n",
    "    def __init__(self, k=2):\n",
    "        self.k = k\n",
    "        self.centers = []\n",
    "\n",
    "    def fit(self, X):\n",
    "        # Randomly initialize cluster centers by selecting K data points from X\n",
    "        random_indices = np.random.choice(len(X), self.k, replace=False)\n",
    "        self.centers = X[random_indices]\n",
    "        \n",
    "        max_iterations = 100\n",
    "        for _ in range(max_iterations):\n",
    "            distances = np.linalg.norm(X[:, np.newaxis] - self.centers, axis=2)\n",
    "            labels = np.argmin(distances, axis=1)\n",
    "            new_centers = np.array([X[labels == i].mean(axis=0) for i in range(self.k)])\n",
    "            if np.allclose(self.centers, new_centers):\n",
    "                break\n",
    "            self.centers = new_centers\n",
    "\n",
    "        return self\n",
    "\n",
    "    def predict(self, x):\n",
    "        distances = np.linalg.norm(self.centers - x, axis=1)\n",
    "        label = np.argmin(distances)\n",
    "\n",
    "        return label\n",
    "      \n"
   ]
  },
  {
   "cell_type": "code",
   "execution_count": 19,
   "metadata": {},
   "outputs": [
    {
     "data": {
      "text/plain": [
       "1"
      ]
     },
     "execution_count": 19,
     "metadata": {},
     "output_type": "execute_result"
    }
   ],
   "source": [
    "x=np.array([29,1400])\n",
    "km=Kmeans(k=2)\n",
    "km.fit(X)\n",
    "label=km.predict(x)\n",
    "label"
   ]
  }
 ],
 "metadata": {
  "kernelspec": {
   "display_name": "venv_ml",
   "language": "python",
   "name": "python3"
  },
  "language_info": {
   "codemirror_mode": {
    "name": "ipython",
    "version": 3
   },
   "file_extension": ".py",
   "mimetype": "text/x-python",
   "name": "python",
   "nbconvert_exporter": "python",
   "pygments_lexer": "ipython3",
   "version": "3.11.6"
  },
  "orig_nbformat": 4
 },
 "nbformat": 4,
 "nbformat_minor": 2
}
